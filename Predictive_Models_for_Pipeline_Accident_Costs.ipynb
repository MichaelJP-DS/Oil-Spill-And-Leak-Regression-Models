{
  "nbformat": 4,
  "nbformat_minor": 0,
  "metadata": {
    "colab": {
      "name": "Predictive Models for Pipeline Accident Costs.ipynb",
      "provenance": [],
      "collapsed_sections": [],
      "mount_file_id": "1XdJtoIb1BQWuzqyuotmMkv6UbDXuPnzA",
      "authorship_tag": "ABX9TyOQnqpWfOpbLcmtYYVSGuFD",
      "include_colab_link": true
    },
    "kernelspec": {
      "name": "python3",
      "display_name": "Python 3"
    },
    "language_info": {
      "name": "python"
    }
  },
  "cells": [
    {
      "cell_type": "markdown",
      "metadata": {
        "id": "view-in-github",
        "colab_type": "text"
      },
      "source": [
        "<a href=\"https://colab.research.google.com/github/MichaelJP-DS/Pipeline_Accident_Costs_Analysis/blob/main/Predictive_Models_for_Pipeline_Accident_Costs.ipynb\" target=\"_parent\"><img src=\"https://colab.research.google.com/assets/colab-badge.svg\" alt=\"Open In Colab\"/></a>"
      ]
    },
    {
      "cell_type": "markdown",
      "metadata": {
        "id": "fzKpbd8fb1eN"
      },
      "source": [
        "#Unit 2 Final Project Notebook\n",
        "\n",
        "- Predict all costs from a pipeline accident including all catastrophic loss data points (Regression)\n",
        "\n",
        "- Predict all costs from a pipeline accident limiting target variable losses to 10M Dollars or less (Regression)\n",
        "\n",
        "#Initial Module Questions\n",
        "\n",
        "- Y Variable - All Costs (Regresssion Models)\n",
        "\n",
        "#Train/Val Split\n",
        "\n",
        "- Using the Date/Time for splitting\n",
        "\n",
        "#Model Types\n",
        "\n",
        "- Regression\n",
        "  - Ridge\n",
        "  - Random Forest Regressor\n",
        "  - XGBoost Regressor\n",
        "\n"
      ]
    },
    {
      "cell_type": "markdown",
      "metadata": {
        "id": "mYQSiI2-cXza"
      },
      "source": [
        "#Mount Drive & List Data"
      ]
    },
    {
      "cell_type": "code",
      "metadata": {
        "id": "V2Zchy2fV6lF",
        "colab": {
          "base_uri": "https://localhost:8080/"
        },
        "outputId": "489c2e6e-43b0-4772-d05b-97c25196eff6"
      },
      "source": [
        "from google.colab import drive\n",
        "drive.mount('/content/gdrive')"
      ],
      "execution_count": null,
      "outputs": [
        {
          "output_type": "stream",
          "name": "stdout",
          "text": [
            "Mounted at /content/gdrive\n"
          ]
        }
      ]
    },
    {
      "cell_type": "code",
      "metadata": {
        "colab": {
          "base_uri": "https://localhost:8080/"
        },
        "id": "2VjnY0NnWlpP",
        "outputId": "de953ffc-4f5b-4ccb-f3c3-f97ae63ab58f"
      },
      "source": [
        "!ls"
      ],
      "execution_count": null,
      "outputs": [
        {
          "output_type": "stream",
          "name": "stdout",
          "text": [
            "gdrive\tsample_data\n"
          ]
        }
      ]
    },
    {
      "cell_type": "markdown",
      "metadata": {
        "id": "qpVGeT04cQeR"
      },
      "source": [
        "#Tools"
      ]
    },
    {
      "cell_type": "code",
      "metadata": {
        "colab": {
          "base_uri": "https://localhost:8080/"
        },
        "id": "bL5bDuQfb8ev",
        "outputId": "b762d156-451a-4ee7-ecdb-236c84decf1c"
      },
      "source": [
        "    !pip install category_encoders==2.*"
      ],
      "execution_count": 519,
      "outputs": [
        {
          "output_type": "stream",
          "name": "stdout",
          "text": [
            "Requirement already satisfied: category_encoders==2.* in /usr/local/lib/python3.7/dist-packages (2.3.0)\n",
            "Requirement already satisfied: pandas>=0.21.1 in /usr/local/lib/python3.7/dist-packages (from category_encoders==2.*) (1.1.5)\n",
            "Requirement already satisfied: scikit-learn>=0.20.0 in /usr/local/lib/python3.7/dist-packages (from category_encoders==2.*) (0.22.2.post1)\n",
            "Requirement already satisfied: numpy>=1.14.0 in /usr/local/lib/python3.7/dist-packages (from category_encoders==2.*) (1.19.5)\n",
            "Requirement already satisfied: patsy>=0.5.1 in /usr/local/lib/python3.7/dist-packages (from category_encoders==2.*) (0.5.2)\n",
            "Requirement already satisfied: scipy>=1.0.0 in /usr/local/lib/python3.7/dist-packages (from category_encoders==2.*) (1.4.1)\n",
            "Requirement already satisfied: statsmodels>=0.9.0 in /usr/local/lib/python3.7/dist-packages (from category_encoders==2.*) (0.10.2)\n",
            "Requirement already satisfied: pytz>=2017.2 in /usr/local/lib/python3.7/dist-packages (from pandas>=0.21.1->category_encoders==2.*) (2018.9)\n",
            "Requirement already satisfied: python-dateutil>=2.7.3 in /usr/local/lib/python3.7/dist-packages (from pandas>=0.21.1->category_encoders==2.*) (2.8.2)\n",
            "Requirement already satisfied: six in /usr/local/lib/python3.7/dist-packages (from patsy>=0.5.1->category_encoders==2.*) (1.15.0)\n",
            "Requirement already satisfied: joblib>=0.11 in /usr/local/lib/python3.7/dist-packages (from scikit-learn>=0.20.0->category_encoders==2.*) (1.0.1)\n"
          ]
        }
      ]
    },
    {
      "cell_type": "code",
      "metadata": {
        "id": "DVXlshBDV1l5"
      },
      "source": [
        "#Libraries\n",
        "import pandas as pd\n",
        "import numpy as np\n",
        "\n",
        "#Pipeline\n",
        "from sklearn.pipeline import make_pipeline\n",
        "\n",
        "#metrics\n",
        "from sklearn.metrics import mean_absolute_error, r2_score\n",
        "\n",
        "#encoders\n",
        "from category_encoders import OneHotEncoder, OrdinalEncoder\n",
        "from sklearn.impute import SimpleImputer\n",
        "from sklearn.preprocessing import StandardScaler\n",
        "\n",
        "#ML\n",
        "from sklearn.linear_model import Ridge\n",
        "from sklearn.ensemble import RandomForestRegressor\n",
        "\n",
        "#CV Tuning Methods\n",
        "from sklearn.model_selection import RandomizedSearchCV\n",
        "\n",
        "#Boosters\n",
        "from sklearn.ensemble import GradientBoostingRegressor\n",
        "\n",
        "#Permutation\n",
        "from sklearn.inspection import permutation_importance\n",
        "\n",
        "#Visualizations\n",
        "import matplotlib.pyplot as plt\n"
      ],
      "execution_count": 520,
      "outputs": []
    },
    {
      "cell_type": "markdown",
      "metadata": {
        "id": "I1VLlrrao94-"
      },
      "source": [
        "#Prebuilt Functions"
      ]
    },
    {
      "cell_type": "code",
      "metadata": {
        "id": "gBNxxuTky6vY"
      },
      "source": [
        "#There is no Liquid Subtype for Crude Oil.  All Crude was given a NaN Value\n",
        "#For many primary liquids there is a subtype.  Create a function to assist in keeping the subtype column\n",
        "\n",
        "def liquid(change):\n",
        "  return str(change).replace('0', 'CRUDE OIL')"
      ],
      "execution_count": 521,
      "outputs": []
    },
    {
      "cell_type": "markdown",
      "metadata": {
        "id": "kqjleHROQ7Xg"
      },
      "source": [
        "#WRANGLE with no alteration for loss costs over 10M Dollars"
      ]
    },
    {
      "cell_type": "code",
      "metadata": {
        "id": "nZgcMoZhWmut"
      },
      "source": [
        "def regwrangle(filepath):\n",
        "  \n",
        "  #Read in CSV, Parse Accident/Date Time and set as index.\n",
        "  df = pd.read_csv(filepath, parse_dates=['Accident Date/Time'], index_col=['Accident Date/Time'])\n",
        "\n",
        "  #Drop Columns with high NaN counts...These colums initally represented with near 90% plus in NaN values\n",
        "  df.drop(columns=['Operator Employee Injuries',\n",
        "       'Operator Contractor Injuries', 'Emergency Responder Injuries',\n",
        "       'Other Injuries', 'Public Injuries', 'All Injuries',\n",
        "       'Operator Employee Fatalities', 'Operator Contractor Fatalities',\n",
        "       'Emergency Responder Fatalities', 'Other Fatalities',\n",
        "       'Public Fatalities', 'All Fatalities', 'Liquid Name'], inplace=True)\n",
        "  \n",
        "  #Crude Oil has no subtype/but plenty of good subtypes impute all NaN's with Crude Save SubType Col\n",
        "  #parameters showed column had negative impact on prediction.  Eliminated as it always scored low in permutation testing.\n",
        "  #df['Liquid Subtype'] = df['Liquid Subtype'].fillna(0).apply(liquid)\n",
        "\n",
        "  #For loop to drop High Cardinailaty Object Columns\n",
        "  Threshold = 350\n",
        "  drop_hc_cols = [col for col in df.select_dtypes('object').columns\n",
        "                  if df[col].nunique() > Threshold]\n",
        "  df.drop(columns=drop_hc_cols, inplace=True)\n",
        "\n",
        "  #Drop Dupe'ish' columns accident county, Operator ID#\n",
        "  df.drop(columns=['Operator ID', 'Report Number','Supplemental Number'], inplace=True)\n",
        "\n",
        "  #FEATURE ENGINEERING considerations\n",
        "  #Need to eliminate dollar cost columns b/c they are too leaky  \n",
        "  #I like the idea of knowing whether there will be a cost incurred though  \n",
        "  #In my opinion, an out of the gate assesment could be made regarding whether a cost will be incurred \n",
        "  #Emergency Response/Environmental Remediation/Lost Commodity/Property Damage \n",
        "  #An immediate on-site assesment would tell us Yes or No.\n",
        "  df.loc[df['Emergency Response Costs'] >= 1, 'Emergency Response'] = 1\n",
        "  df.loc[df['Emergency Response Costs'] == 0, 'Emergency Response'] = 0\n",
        "  df.drop(columns='Emergency Response Costs', inplace=True)\n",
        "\n",
        "  df.loc[df['Environmental Remediation Costs'] >= 1, 'Environmental Remediation'] = 1\n",
        "  df.loc[df['Environmental Remediation Costs'] == 0, 'Environmental Remediation'] = 0\n",
        "  df.drop(columns='Environmental Remediation Costs', inplace=True)\n",
        "\n",
        "  df.loc[df['Lost Commodity Costs'] >= 1, 'Lost Commodity'] = 1\n",
        "  df.loc[df['Lost Commodity Costs'] == 0, 'Lost Commodity'] = 0\n",
        "  df.drop(columns='Lost Commodity Costs', inplace=True)\n",
        "  \n",
        "  df.loc[df['Property Damage Costs'] >= 1, 'Property Damage'] = 1\n",
        "  df.loc[df['Property Damage Costs'] == 0, 'Property Damage'] = 0\n",
        "  df.drop(columns='Property Damage Costs', inplace=True)\n",
        "\n",
        "  #Deleted any additional column reprsenting a calculation of dollar cost. These represent too much possibility for leakage. \n",
        "  #I don't know enough about these two columns to say whether an initial assesment could be made.\n",
        "  df.drop(columns=['Public/Private Property Damage Costs', 'Other Costs'], inplace=True)\n",
        "\n",
        "\n",
        "  #Drop columns as a result of permutation importantance testing\n",
        "  df.drop(columns=['Accident Year','Liquid Subtype','Liquid Type','Operator Name','Cause Category', 'Liquid Ignition', 'Pipeline Location', 'Cause Subcategory', 'Accident Latitude', 'Accident Longitude', 'Liquid Explosion', 'Public Evacuations',\n",
        "  'Accident State', 'Net Loss (Barrels)', 'Intentional Release (Barrels)', 'Environmental Remediation'], inplace=True)\n",
        "\n",
        "  return df\n",
        "\n",
        "df_final = regwrangle('database 2.csv')"
      ],
      "execution_count": 522,
      "outputs": []
    },
    {
      "cell_type": "markdown",
      "metadata": {
        "id": "xDjsg1loS9zi"
      },
      "source": [
        "## Alternate Wrangle with elimination of losses over 10M Dollars"
      ]
    },
    {
      "cell_type": "code",
      "metadata": {
        "id": "iJ5OGAgoxuye"
      },
      "source": [
        "def regwranglerev(filepath):\n",
        "  \n",
        "  #Read in CSV, Parse Accident/Date Time and set as index.\n",
        "  df1 = pd.read_csv(filepath, parse_dates=['Accident Date/Time'], index_col=['Accident Date/Time'])\n",
        "\n",
        "  #Drop Columns with high NaN counts...These colums initally represented with near 90% plus in NaN values\n",
        "  df1.drop(columns=['Operator Employee Injuries',\n",
        "       'Operator Contractor Injuries', 'Emergency Responder Injuries',\n",
        "       'Other Injuries', 'Public Injuries', 'All Injuries',\n",
        "       'Operator Employee Fatalities', 'Operator Contractor Fatalities',\n",
        "       'Emergency Responder Fatalities', 'Other Fatalities',\n",
        "       'Public Fatalities', 'All Fatalities', 'Liquid Name'], inplace=True)\n",
        "  \n",
        "  #Crude Oil has no subtype/but plenty of good subtypes impute all NaN's with Crude Save SubType Col\n",
        "  #parameters showed column had negative impact on prediction.  Eliminated as it always scored low in permutation testing.\n",
        "  df1['Liquid Subtype'] = df1['Liquid Subtype'].fillna(0).apply(liquid)\n",
        "\n",
        "  #For loop to drop High Cardinailaty Object Columns\n",
        "  Threshold = 350\n",
        "  drop_hc_cols = [col for col in df1.select_dtypes('object').columns\n",
        "                  if df1[col].nunique() > Threshold]\n",
        "  df1.drop(columns=drop_hc_cols, inplace=True)\n",
        "\n",
        "  #Drop Dupe'ish' columns accident county, Operator ID#\n",
        "  df1.drop(columns=['Operator ID', 'Report Number','Supplemental Number'], inplace=True)\n",
        "\n",
        "  #FEATURE ENGINEERING considerations\n",
        "  #Need to eliminate dollar cost columns b/c they are too leaky  \n",
        "  #I like the idea of knowing whether there will be a cost incurred though  \n",
        "  #In my opinion, an out of the gate assesment could be made regarding whether a cost will be incurred \n",
        "  #Emergency Response/Environmental Remediation/Lost Commodity/Property Damage \n",
        "  #An immediate on-site assesment would tell us Yes or No.\n",
        "  df1.loc[df1['Emergency Response Costs'] >= 1, 'Emergency Response'] = 1\n",
        "  df1.loc[df1['Emergency Response Costs'] == 0, 'Emergency Response'] = 0\n",
        "  df1.drop(columns='Emergency Response Costs', inplace=True)\n",
        "\n",
        "  df1.loc[df1['Environmental Remediation Costs'] >= 1, 'Environmental Remediation'] = 1\n",
        "  df1.loc[df1['Environmental Remediation Costs'] == 0, 'Environmental Remediation'] = 0\n",
        "  df1.drop(columns='Environmental Remediation Costs', inplace=True)\n",
        "\n",
        "  df1.loc[df1['Lost Commodity Costs'] >= 1, 'Lost Commodity'] = 1\n",
        "  df1.loc[df1['Lost Commodity Costs'] == 0, 'Lost Commodity'] = 0\n",
        "  df1.drop(columns='Lost Commodity Costs', inplace=True)\n",
        "  \n",
        "  df1.loc[df1['Property Damage Costs'] >= 1, 'Property Damage'] = 1\n",
        "  df1.loc[df1['Property Damage Costs'] == 0, 'Property Damage'] = 0\n",
        "  df1.drop(columns='Property Damage Costs', inplace=True)\n",
        "\n",
        "  #Deleted any additional column reprsenting a calculation of dollar cost. These represent too much possibility for leakage. \n",
        "  #I don't know enough about these two columns to say whether an initial assesment could be made.\n",
        "  df1.drop(columns=['Public/Private Property Damage Costs', 'Other Costs'], inplace=True)\n",
        "\n",
        "  #drop all rows where total costs are in excess of $10,000,000.  \n",
        "  #This resulted in the loss of on 21 columns.\n",
        "  df1.drop(df1[df1['All Costs'] > 10000000].index, inplace=True)\n",
        "\n",
        "  #Drop columns as a result of permutation importantance testing\n",
        "  df1.drop(columns=['Accident Year','Cause Category', 'Cause Subcategory', 'Liquid Recovery (Barrels)', 'Public Evacuations','Accident State', 'Pipeline Type', 'Pipeline Location', 'Environmental Remediation',\n",
        "                    'Lost Commodity', 'Liquid Ignition', 'Pipeline Shutdown', 'Liquid Explosion', 'Operator Name', 'Accident Latitude', 'Intentional Release (Barrels)'], inplace=True)\n",
        "\n",
        "  return df1\n",
        "\n",
        "df1_final = regwranglerev('database 2.csv')"
      ],
      "execution_count": 523,
      "outputs": []
    },
    {
      "cell_type": "markdown",
      "metadata": {
        "id": "V0wH0gmNdUlI"
      },
      "source": [
        "#EDA - Exploratory Data Analysis"
      ]
    },
    {
      "cell_type": "markdown",
      "metadata": {
        "id": "EM9zrRBq-nsd"
      },
      "source": [
        "I used this space to conduct a variety of tests and information gathering techniques. I later brought some of the code into the wrangle function.  As this is just a brainstorming section, I deleted the cells.  It makes the rest of the notebook easier to follow."
      ]
    },
    {
      "cell_type": "markdown",
      "metadata": {
        "id": "S0M6RRmNe1Hg"
      },
      "source": [
        "#Split Data into Target and Feature Data Frames"
      ]
    },
    {
      "cell_type": "markdown",
      "metadata": {
        "id": "2fJXIfappUAJ"
      },
      "source": [
        "##Regression - Target and Feature All Costs"
      ]
    },
    {
      "cell_type": "code",
      "metadata": {
        "id": "4s2KnLoAS93P"
      },
      "source": [
        "target = \t'All Costs'\n",
        "\n",
        "y_a = df_final[target]\n",
        "\n",
        "X_a = df_final.drop(columns=target)\n"
      ],
      "execution_count": 524,
      "outputs": []
    },
    {
      "cell_type": "markdown",
      "metadata": {
        "id": "D4uQBsTiC86e"
      },
      "source": [
        "##Regression - Target and Feature 10M or Less"
      ]
    },
    {
      "cell_type": "code",
      "metadata": {
        "id": "S6-cWLx-yG0M"
      },
      "source": [
        "target = \t'All Costs'\n",
        "\n",
        "y_a1 = df1_final[target]\n",
        "\n",
        "X_a1 = df1_final.drop(columns=target)"
      ],
      "execution_count": 525,
      "outputs": []
    },
    {
      "cell_type": "markdown",
      "metadata": {
        "id": "ImGZL_rskLbu"
      },
      "source": [
        "##Create Mask for Train/Val/Test"
      ]
    },
    {
      "cell_type": "markdown",
      "metadata": {
        "id": "tvTjWbnwDDmn"
      },
      "source": [
        "### All Costs"
      ]
    },
    {
      "cell_type": "code",
      "metadata": {
        "id": "ho-Fse3xe3Y9"
      },
      "source": [
        "cutoff1 = '2015-05-12 09:14:00'\n",
        "cutoff2 = '2016-04-28 10:45:00'\n",
        "\n",
        "mask1 = df_final.index <= cutoff1\n",
        "\n",
        "mask2 = ((df_final.index > cutoff1) & (df_final.index < cutoff2))\n",
        "\n",
        "mask3 = df_final.index >= cutoff2\n"
      ],
      "execution_count": 526,
      "outputs": []
    },
    {
      "cell_type": "markdown",
      "metadata": {
        "id": "5hLmvxVcDF9G"
      },
      "source": [
        "### 10M or Less"
      ]
    },
    {
      "cell_type": "code",
      "metadata": {
        "id": "D0tTSjEw0ssu"
      },
      "source": [
        "cutoff1 = '2015-05-12 09:14:00'\n",
        "cutoff2 = '2016-04-28 10:45:00'\n",
        "\n",
        "mask11 = df1_final.index <= cutoff1\n",
        "\n",
        "mask22 = ((df1_final.index > cutoff1) & (df1_final.index < cutoff2))\n",
        "\n",
        "mask33 = df1_final.index >= cutoff2"
      ],
      "execution_count": 527,
      "outputs": []
    },
    {
      "cell_type": "markdown",
      "metadata": {
        "id": "Du8jxalZmnwX"
      },
      "source": [
        "#Regression Train/Val/Test Split"
      ]
    },
    {
      "cell_type": "markdown",
      "metadata": {
        "id": "BbtfN0EGDM_T"
      },
      "source": [
        "### All Costs"
      ]
    },
    {
      "cell_type": "code",
      "metadata": {
        "id": "US0IVtZajrPG"
      },
      "source": [
        "X_a_train, y_a_train = X_a[mask1], y_a[mask1]\n",
        "\n",
        "X_a_val, y_a_val = X_a[mask2], y_a[mask2]\n",
        "\n",
        "X_a_test, y_a_test = X_a[mask3], y_a[mask3]"
      ],
      "execution_count": 528,
      "outputs": []
    },
    {
      "cell_type": "markdown",
      "metadata": {
        "id": "jMCG6cMqDOvz"
      },
      "source": [
        "### 10M or Less"
      ]
    },
    {
      "cell_type": "code",
      "metadata": {
        "id": "x6RHx-vq0gCY"
      },
      "source": [
        "X_a1_train, y_a1_train = X_a1[mask11], y_a1[mask11]\n",
        "\n",
        "X_a1_val, y_a1_val = X_a1[mask22], y_a1[mask22]\n",
        "\n",
        "X_a1_test, y_a1_test = X_a1[mask33], y_a1[mask33]"
      ],
      "execution_count": 529,
      "outputs": []
    },
    {
      "cell_type": "markdown",
      "metadata": {
        "id": "5GXlS5fnhKH5"
      },
      "source": [
        "###Baseline All Costs Rows"
      ]
    },
    {
      "cell_type": "code",
      "metadata": {
        "colab": {
          "base_uri": "https://localhost:8080/"
        },
        "id": "C1xmzqCRfG5_",
        "outputId": "2bfa8a9a-67af-4ae7-f43d-c8175d2e3f33"
      },
      "source": [
        "average_rating = y_a_train.mean()\n",
        "\n",
        "baseline_pred = [average_rating] * len(y_a_val)\n",
        "\n",
        "print('Regression Baseline', mean_absolute_error(y_a_val, baseline_pred))"
      ],
      "execution_count": 530,
      "outputs": [
        {
          "output_type": "stream",
          "name": "stdout",
          "text": [
            "Regression Baseline 1255588.9803684002\n"
          ]
        }
      ]
    },
    {
      "cell_type": "markdown",
      "metadata": {
        "id": "QBvOhK4qhO1g"
      },
      "source": [
        "###Baseline for model with 10M or Less"
      ]
    },
    {
      "cell_type": "code",
      "metadata": {
        "colab": {
          "base_uri": "https://localhost:8080/"
        },
        "id": "JDBPBlcQhNFA",
        "outputId": "8867343e-6fdf-42ba-f71b-88838233b4d1"
      },
      "source": [
        "average_rating = y_a1_train.mean()\n",
        "\n",
        "baseline_pred = [average_rating] * len(y_a1_val)\n",
        "\n",
        "print('Regression Baseline $10M or Less', mean_absolute_error(y_a1_val, baseline_pred))"
      ],
      "execution_count": 387,
      "outputs": [
        {
          "output_type": "stream",
          "name": "stdout",
          "text": [
            "Regression Baseline $10M or Less 313592.21891102876\n"
          ]
        }
      ]
    },
    {
      "cell_type": "markdown",
      "metadata": {
        "id": "Z6LyRkHve5Yy"
      },
      "source": [
        "#Build Models & Tune -- Regression Section"
      ]
    },
    {
      "cell_type": "markdown",
      "metadata": {
        "id": "v0hUpCjl5vY7"
      },
      "source": [
        "##Hyper Parameter Tuning"
      ]
    },
    {
      "cell_type": "markdown",
      "metadata": {
        "id": "wjvO6yzXwmTf"
      },
      "source": [
        "###Random Forest Regressor Hyperparameter Tuning"
      ]
    },
    {
      "cell_type": "code",
      "metadata": {
        "id": "4cbrAv3zSr2D",
        "colab": {
          "base_uri": "https://localhost:8080/"
        },
        "outputId": "545a4ae4-b42e-4dd2-d71f-ae51e7f4fba8"
      },
      "source": [
        "#Stopped tuning and focused on Gradient Booster\n",
        "clf = make_pipeline(\n",
        "    OrdinalEncoder(),\n",
        "    SimpleImputer(strategy='mean'),\n",
        "    RandomForestRegressor(),\n",
        ")\n",
        "\n",
        "rfr_param_grid = {'simpleimputer__strategy': ['mean', 'median'],\n",
        "                 'randomforestregressor__max_depth': range(2, 40, 2),\n",
        "                 'randomforestregressor__n_estimators': range(25, 200, 25),\n",
        "                 'randomforestregressor__min_samples_split': range(1, 10, 1),\n",
        "                 'randomforestregressor__max_leaf_nodes': range(1, 30, 1),\n",
        "                 'randomforestregressor__max_features': ['auto', 'log2', 'sqrt'],\n",
        "                 'randomforestregressor__min_samples_leaf': range(1, 10, 1)\n",
        "                 }\n",
        "\n",
        "model_rfrr = RandomizedSearchCV(\n",
        "    clf,\n",
        "    param_distributions = rfr_param_grid,\n",
        "    n_jobs=-1,\n",
        "    cv=5,\n",
        "    n_iter=7,\n",
        "    verbose=1\n",
        ")\n",
        "\n",
        "model_rfrr.fit(X_a_train, y_a_train)"
      ],
      "execution_count": 477,
      "outputs": [
        {
          "output_type": "stream",
          "name": "stdout",
          "text": [
            "Fitting 5 folds for each of 7 candidates, totalling 35 fits\n"
          ]
        },
        {
          "output_type": "stream",
          "name": "stderr",
          "text": [
            "[Parallel(n_jobs=-1)]: Using backend LokyBackend with 2 concurrent workers.\n",
            "[Parallel(n_jobs=-1)]: Done  35 out of  35 | elapsed:    4.3s finished\n"
          ]
        },
        {
          "output_type": "execute_result",
          "data": {
            "text/plain": [
              "RandomizedSearchCV(cv=5, error_score=nan,\n",
              "                   estimator=Pipeline(memory=None,\n",
              "                                      steps=[('ordinalencoder',\n",
              "                                              OrdinalEncoder(cols=None,\n",
              "                                                             drop_invariant=False,\n",
              "                                                             handle_missing='value',\n",
              "                                                             handle_unknown='value',\n",
              "                                                             mapping=None,\n",
              "                                                             return_df=True,\n",
              "                                                             verbose=0)),\n",
              "                                             ('simpleimputer',\n",
              "                                              SimpleImputer(add_indicator=False,\n",
              "                                                            copy=True,\n",
              "                                                            fill_value=None,\n",
              "                                                            missing_values=nan,\n",
              "                                                            strategy='mean',\n",
              "                                                            verbose=0)...\n",
              "                                        'randomforestregressor__max_leaf_nodes': range(1, 30),\n",
              "                                        'randomforestregressor__min_samples_leaf': range(1, 10),\n",
              "                                        'randomforestregressor__min_samples_split': range(1, 10),\n",
              "                                        'randomforestregressor__n_estimators': range(25, 200, 25),\n",
              "                                        'simpleimputer__strategy': ['mean',\n",
              "                                                                    'median']},\n",
              "                   pre_dispatch='2*n_jobs', random_state=None, refit=True,\n",
              "                   return_train_score=False, scoring=None, verbose=1)"
            ]
          },
          "metadata": {},
          "execution_count": 477
        }
      ]
    },
    {
      "cell_type": "code",
      "metadata": {
        "colab": {
          "base_uri": "https://localhost:8080/"
        },
        "id": "zbylT4n07ZBS",
        "outputId": "a89d7619-c6d9-4c27-aaf6-d4688e312ae5"
      },
      "source": [
        "#check best parameters\n",
        "model_rfrr.best_params_"
      ],
      "execution_count": 478,
      "outputs": [
        {
          "output_type": "execute_result",
          "data": {
            "text/plain": [
              "{'randomforestregressor__max_depth': 24,\n",
              " 'randomforestregressor__max_features': 'log2',\n",
              " 'randomforestregressor__max_leaf_nodes': 25,\n",
              " 'randomforestregressor__min_samples_leaf': 9,\n",
              " 'randomforestregressor__min_samples_split': 7,\n",
              " 'randomforestregressor__n_estimators': 125,\n",
              " 'simpleimputer__strategy': 'median'}"
            ]
          },
          "metadata": {},
          "execution_count": 478
        }
      ]
    },
    {
      "cell_type": "markdown",
      "metadata": {
        "id": "riI5atXhwf9z"
      },
      "source": [
        "###Gradient Boosting Regressor Hyperparameter Tuning"
      ]
    },
    {
      "cell_type": "code",
      "metadata": {
        "id": "lkyhnpZBLCYS",
        "colab": {
          "base_uri": "https://localhost:8080/"
        },
        "outputId": "ab526c71-7b79-4397-aa0d-01b3c6a32429"
      },
      "source": [
        "clf = make_pipeline(\n",
        "    OrdinalEncoder(),\n",
        "    SimpleImputer(strategy='mean'),\n",
        "    GradientBoostingRegressor(),\n",
        ")\n",
        "\n",
        "gbr_param_grid = {'simpleimputer__strategy': ['mean', 'median'],\n",
        "                 'gradientboostingregressor__max_depth': range(2, 40, 2),\n",
        "                 'gradientboostingregressor__n_estimators': range(25, 200, 25),\n",
        "                 'gradientboostingregressor__loss': ['squared_error', 'ls', 'absolute_error', 'lad', 'huber', 'quantile'],\n",
        "                 'gradientboostingregressor__min_samples_split': range(1, 10, 1),\n",
        "                 'gradientboostingregressor__max_leaf_nodes': range(1, 30, 1)\n",
        "                 }\n",
        "\n",
        "model_gbrr = RandomizedSearchCV(\n",
        "    clf,\n",
        "    param_distributions = gbr_param_grid,\n",
        "    n_jobs=-1,\n",
        "    cv=10,\n",
        "    n_iter=7,\n",
        "    verbose=1\n",
        ")\n",
        "\n",
        "model_gbrr.fit(X_a_train, y_a_train)"
      ],
      "execution_count": 471,
      "outputs": [
        {
          "output_type": "stream",
          "name": "stdout",
          "text": [
            "Fitting 10 folds for each of 7 candidates, totalling 70 fits\n"
          ]
        },
        {
          "output_type": "stream",
          "name": "stderr",
          "text": [
            "[Parallel(n_jobs=-1)]: Using backend LokyBackend with 2 concurrent workers.\n",
            "[Parallel(n_jobs=-1)]: Done  46 tasks      | elapsed:   10.2s\n",
            "[Parallel(n_jobs=-1)]: Done  70 out of  70 | elapsed:   12.6s finished\n"
          ]
        },
        {
          "output_type": "execute_result",
          "data": {
            "text/plain": [
              "RandomizedSearchCV(cv=10, error_score=nan,\n",
              "                   estimator=Pipeline(memory=None,\n",
              "                                      steps=[('ordinalencoder',\n",
              "                                              OrdinalEncoder(cols=None,\n",
              "                                                             drop_invariant=False,\n",
              "                                                             handle_missing='value',\n",
              "                                                             handle_unknown='value',\n",
              "                                                             mapping=None,\n",
              "                                                             return_df=True,\n",
              "                                                             verbose=0)),\n",
              "                                             ('simpleimputer',\n",
              "                                              SimpleImputer(add_indicator=False,\n",
              "                                                            copy=True,\n",
              "                                                            fill_value=None,\n",
              "                                                            missing_values=nan,\n",
              "                                                            strategy='mean',\n",
              "                                                            verbose=0...\n",
              "                                        'gradientboostingregressor__max_depth': range(2, 40, 2),\n",
              "                                        'gradientboostingregressor__max_leaf_nodes': range(1, 30),\n",
              "                                        'gradientboostingregressor__min_samples_split': range(1, 10),\n",
              "                                        'gradientboostingregressor__n_estimators': range(25, 200, 25),\n",
              "                                        'simpleimputer__strategy': ['mean',\n",
              "                                                                    'median']},\n",
              "                   pre_dispatch='2*n_jobs', random_state=None, refit=True,\n",
              "                   return_train_score=False, scoring=None, verbose=1)"
            ]
          },
          "metadata": {},
          "execution_count": 471
        }
      ]
    },
    {
      "cell_type": "code",
      "metadata": {
        "colab": {
          "base_uri": "https://localhost:8080/"
        },
        "id": "7hcTXF-Bs-VH",
        "outputId": "1aa416ec-9e79-4103-9c35-2d79ce017b9a"
      },
      "source": [
        "#check best parameters\n",
        "model_gbrr.best_params_"
      ],
      "execution_count": 472,
      "outputs": [
        {
          "output_type": "execute_result",
          "data": {
            "text/plain": [
              "{'gradientboostingregressor__loss': 'lad',\n",
              " 'gradientboostingregressor__max_depth': 10,\n",
              " 'gradientboostingregressor__max_leaf_nodes': 4,\n",
              " 'gradientboostingregressor__min_samples_split': 6,\n",
              " 'gradientboostingregressor__n_estimators': 75,\n",
              " 'simpleimputer__strategy': 'mean'}"
            ]
          },
          "metadata": {},
          "execution_count": 472
        }
      ]
    },
    {
      "cell_type": "markdown",
      "metadata": {
        "id": "DzlJz7eZrkjl"
      },
      "source": [
        "###Gradient Boosting Regressor Hyperparameter Tuning 10M or Less"
      ]
    },
    {
      "cell_type": "code",
      "metadata": {
        "colab": {
          "base_uri": "https://localhost:8080/"
        },
        "id": "4YAmq7H9rqCZ",
        "outputId": "b5a3b405-6cc0-42bf-c45d-2a3096b03094"
      },
      "source": [
        "clf = make_pipeline(\n",
        "    OrdinalEncoder(),\n",
        "    SimpleImputer(strategy='mean'),\n",
        "    GradientBoostingRegressor(),\n",
        ")\n",
        "\n",
        "gbr_param_grid1 = {'simpleimputer__strategy': ['mean', 'median'],\n",
        "                 'gradientboostingregressor__max_depth': range(2, 40, 2),\n",
        "                 'gradientboostingregressor__n_estimators': range(25, 200, 25),\n",
        "                 'gradientboostingregressor__loss': ['squared_error', 'ls', 'absolute_error', 'lad', 'huber', 'quantile'],\n",
        "                 'gradientboostingregressor__min_samples_split': range(1, 10, 1),\n",
        "                 'gradientboostingregressor__max_leaf_nodes': range(1, 30, 1)\n",
        "                 }\n",
        "\n",
        "model_gbrr1 = RandomizedSearchCV(\n",
        "    clf,\n",
        "    param_distributions = gbr_param_grid1,\n",
        "    n_jobs=-1,\n",
        "    cv=10,\n",
        "    n_iter=7,\n",
        "    verbose=1\n",
        ")\n",
        "\n",
        "model_gbrr1.fit(X_a1_train, y_a1_train)"
      ],
      "execution_count": 305,
      "outputs": [
        {
          "output_type": "stream",
          "name": "stdout",
          "text": [
            "Fitting 10 folds for each of 7 candidates, totalling 70 fits\n"
          ]
        },
        {
          "output_type": "stream",
          "name": "stderr",
          "text": [
            "[Parallel(n_jobs=-1)]: Using backend LokyBackend with 2 concurrent workers.\n",
            "[Parallel(n_jobs=-1)]: Done  70 out of  70 | elapsed:   12.7s finished\n"
          ]
        },
        {
          "output_type": "execute_result",
          "data": {
            "text/plain": [
              "RandomizedSearchCV(cv=10, error_score=nan,\n",
              "                   estimator=Pipeline(memory=None,\n",
              "                                      steps=[('ordinalencoder',\n",
              "                                              OrdinalEncoder(cols=None,\n",
              "                                                             drop_invariant=False,\n",
              "                                                             handle_missing='value',\n",
              "                                                             handle_unknown='value',\n",
              "                                                             mapping=None,\n",
              "                                                             return_df=True,\n",
              "                                                             verbose=0)),\n",
              "                                             ('simpleimputer',\n",
              "                                              SimpleImputer(add_indicator=False,\n",
              "                                                            copy=True,\n",
              "                                                            fill_value=None,\n",
              "                                                            missing_values=nan,\n",
              "                                                            strategy='mean',\n",
              "                                                            verbose=0...\n",
              "                                        'gradientboostingregressor__max_depth': range(2, 40, 2),\n",
              "                                        'gradientboostingregressor__max_leaf_nodes': range(1, 30),\n",
              "                                        'gradientboostingregressor__min_samples_split': range(1, 10),\n",
              "                                        'gradientboostingregressor__n_estimators': range(25, 200, 25),\n",
              "                                        'simpleimputer__strategy': ['mean',\n",
              "                                                                    'median']},\n",
              "                   pre_dispatch='2*n_jobs', random_state=None, refit=True,\n",
              "                   return_train_score=False, scoring=None, verbose=1)"
            ]
          },
          "metadata": {},
          "execution_count": 305
        }
      ]
    },
    {
      "cell_type": "code",
      "metadata": {
        "colab": {
          "base_uri": "https://localhost:8080/"
        },
        "id": "Q86ZgeY92R-B",
        "outputId": "46de97b7-7298-492d-d00d-586121fda48b"
      },
      "source": [
        "#check best parameters\n",
        "model_gbrr1.best_params_"
      ],
      "execution_count": 306,
      "outputs": [
        {
          "output_type": "execute_result",
          "data": {
            "text/plain": [
              "{'gradientboostingregressor__loss': 'huber',\n",
              " 'gradientboostingregressor__max_depth': 6,\n",
              " 'gradientboostingregressor__max_leaf_nodes': 8,\n",
              " 'gradientboostingregressor__min_samples_split': 2,\n",
              " 'gradientboostingregressor__n_estimators': 175,\n",
              " 'simpleimputer__strategy': 'median'}"
            ]
          },
          "metadata": {},
          "execution_count": 306
        }
      ]
    },
    {
      "cell_type": "markdown",
      "metadata": {
        "id": "7L8GhaY-h-cL"
      },
      "source": [
        "##Regression Models"
      ]
    },
    {
      "cell_type": "markdown",
      "metadata": {
        "id": "wlFaUuhrKDvt"
      },
      "source": [
        "### Simple Ridge Regression Model"
      ]
    },
    {
      "cell_type": "code",
      "metadata": {
        "colab": {
          "base_uri": "https://localhost:8080/"
        },
        "id": "PB24nQTRKCyO",
        "outputId": "bb59acf5-9eb3-4aef-b959-8a8fda9804ba"
      },
      "source": [
        "model_ridge = make_pipeline(\n",
        "    OneHotEncoder(use_cat_names=True),\n",
        "    SimpleImputer(strategy='mean'),\n",
        "    StandardScaler(),\n",
        "    Ridge(alpha=1000, solver='auto')\n",
        ")\n",
        "\n",
        "model_ridge.fit(X_a_train, y_a_train)"
      ],
      "execution_count": 388,
      "outputs": [
        {
          "output_type": "execute_result",
          "data": {
            "text/plain": [
              "Pipeline(memory=None,\n",
              "         steps=[('onehotencoder',\n",
              "                 OneHotEncoder(cols=['Pipeline Type', 'Pipeline Shutdown'],\n",
              "                               drop_invariant=False, handle_missing='value',\n",
              "                               handle_unknown='value', return_df=True,\n",
              "                               use_cat_names=True, verbose=0)),\n",
              "                ('simpleimputer',\n",
              "                 SimpleImputer(add_indicator=False, copy=True, fill_value=None,\n",
              "                               missing_values=nan, strategy='mean',\n",
              "                               verbose=0)),\n",
              "                ('standardscaler',\n",
              "                 StandardScaler(copy=True, with_mean=True, with_std=True)),\n",
              "                ('ridge',\n",
              "                 Ridge(alpha=1000, copy_X=True, fit_intercept=True,\n",
              "                       max_iter=None, normalize=False, random_state=None,\n",
              "                       solver='auto', tol=0.001))],\n",
              "         verbose=False)"
            ]
          },
          "metadata": {},
          "execution_count": 388
        }
      ]
    },
    {
      "cell_type": "markdown",
      "metadata": {
        "id": "FJl3RB5o5OHL"
      },
      "source": [
        "###Random Forest Regressor Model All Costs"
      ]
    },
    {
      "cell_type": "markdown",
      "metadata": {
        "id": "3pdOf-Y454_0"
      },
      "source": [
        " ## Best Hyperparameters RFR\n",
        " - randomforestregressor__max_depth': 24,\n",
        " - randomforestregressor__max_features': 'log2',\n",
        " - randomforestregressor__max_leaf_nodes': 25,\n",
        " - randomforestregressor__min_samples_leaf': 9,\n",
        " - randomforestregressor__min_samples_split': 7,\n",
        " - randomforestregressor__n_estimators': 125,\n",
        " - simpleimputer__strategy': 'median'"
      ]
    },
    {
      "cell_type": "code",
      "metadata": {
        "colab": {
          "base_uri": "https://localhost:8080/"
        },
        "id": "LKckDlSM5SDE",
        "outputId": "17e4a1ad-b2c1-49f7-e9ca-424f8b6742f7"
      },
      "source": [
        "model_rfr = make_pipeline(\n",
        "    OrdinalEncoder(),\n",
        "    SimpleImputer(strategy='median'),\n",
        "    StandardScaler(),\n",
        "    RandomForestRegressor(n_estimators=125, max_depth=24, max_leaf_nodes=25, min_samples_leaf=9, min_samples_split=7, max_features='log2')\n",
        ")\n",
        "\n",
        "model_rfr.fit(X_a_train, y_a_train)"
      ],
      "execution_count": 479,
      "outputs": [
        {
          "output_type": "execute_result",
          "data": {
            "text/plain": [
              "Pipeline(memory=None,\n",
              "         steps=[('ordinalencoder',\n",
              "                 OrdinalEncoder(cols=['Pipeline Type', 'Pipeline Shutdown'],\n",
              "                                drop_invariant=False, handle_missing='value',\n",
              "                                handle_unknown='value',\n",
              "                                mapping=[{'col': 'Pipeline Type',\n",
              "                                          'data_type': dtype('O'),\n",
              "                                          'mapping': ABOVEGROUND        1\n",
              "UNDERGROUND        2\n",
              "TANK               3\n",
              "NaN                4\n",
              "TRANSITION AREA    5\n",
              "dtype: int64},\n",
              "                                         {'col': 'Pipeline Shutdown',\n",
              "                                          'data_type': dtype('O'),\n",
              "                                          'mappin...\n",
              "                 RandomForestRegressor(bootstrap=True, ccp_alpha=0.0,\n",
              "                                       criterion='mse', max_depth=24,\n",
              "                                       max_features='log2', max_leaf_nodes=25,\n",
              "                                       max_samples=None,\n",
              "                                       min_impurity_decrease=0.0,\n",
              "                                       min_impurity_split=None,\n",
              "                                       min_samples_leaf=9, min_samples_split=7,\n",
              "                                       min_weight_fraction_leaf=0.0,\n",
              "                                       n_estimators=125, n_jobs=None,\n",
              "                                       oob_score=False, random_state=None,\n",
              "                                       verbose=0, warm_start=False))],\n",
              "         verbose=False)"
            ]
          },
          "metadata": {},
          "execution_count": 479
        }
      ]
    },
    {
      "cell_type": "markdown",
      "metadata": {
        "id": "Gv_cWDRSoFEj"
      },
      "source": [
        "##Best Hyperparameters GBR All Costs\n",
        " - gradientboostingregressor__loss': 'lad',\n",
        " - gradientboostingregressor__max_depth': 10,\n",
        " - gradientboostingregressor__max_leaf_nodes': 4,\n",
        " - gradientboostingregressor__min_samples_split': 6,\n",
        " - gradientboostingregressor__n_estimators': 75,\n",
        " - simpleimputer__strategy': 'mean'"
      ]
    },
    {
      "cell_type": "markdown",
      "metadata": {
        "id": "lsqX07Qg5SZD"
      },
      "source": [
        "###Gradient Booster Regressor Model All Loss Costs"
      ]
    },
    {
      "cell_type": "code",
      "metadata": {
        "colab": {
          "base_uri": "https://localhost:8080/"
        },
        "id": "DJpdyzPj5ssM",
        "outputId": "85c2140d-f4b8-4460-a85a-bf9577cbcab7"
      },
      "source": [
        "model_gbr = make_pipeline(\n",
        "    OrdinalEncoder(),\n",
        "    SimpleImputer(strategy='mean'),\n",
        "    StandardScaler(),\n",
        "    GradientBoostingRegressor(n_estimators=75, max_depth=10, loss='lad', min_samples_split=6, max_leaf_nodes=4)\n",
        ")\n",
        "\n",
        "model_gbr.fit(X_a_train, y_a_train)"
      ],
      "execution_count": 473,
      "outputs": [
        {
          "output_type": "execute_result",
          "data": {
            "text/plain": [
              "Pipeline(memory=None,\n",
              "         steps=[('ordinalencoder',\n",
              "                 OrdinalEncoder(cols=['Pipeline Type', 'Pipeline Shutdown'],\n",
              "                                drop_invariant=False, handle_missing='value',\n",
              "                                handle_unknown='value',\n",
              "                                mapping=[{'col': 'Pipeline Type',\n",
              "                                          'data_type': dtype('O'),\n",
              "                                          'mapping': ABOVEGROUND        1\n",
              "UNDERGROUND        2\n",
              "TANK               3\n",
              "NaN                4\n",
              "TRANSITION AREA    5\n",
              "dtype: int64},\n",
              "                                         {'col': 'Pipeline Shutdown',\n",
              "                                          'data_type': dtype('O'),\n",
              "                                          'mappin...\n",
              "                                           learning_rate=0.1, loss='lad',\n",
              "                                           max_depth=10, max_features=None,\n",
              "                                           max_leaf_nodes=4,\n",
              "                                           min_impurity_decrease=0.0,\n",
              "                                           min_impurity_split=None,\n",
              "                                           min_samples_leaf=1,\n",
              "                                           min_samples_split=6,\n",
              "                                           min_weight_fraction_leaf=0.0,\n",
              "                                           n_estimators=75,\n",
              "                                           n_iter_no_change=None,\n",
              "                                           presort='deprecated',\n",
              "                                           random_state=None, subsample=1.0,\n",
              "                                           tol=0.0001, validation_fraction=0.1,\n",
              "                                           verbose=0, warm_start=False))],\n",
              "         verbose=False)"
            ]
          },
          "metadata": {},
          "execution_count": 473
        }
      ]
    },
    {
      "cell_type": "markdown",
      "metadata": {
        "id": "lfqG_f4G2YMG"
      },
      "source": [
        "##Best Parameters - GBR 10M or Less\n",
        " - gradientboostingregressor__loss': 'huber',\n",
        " - gradientboostingregressor__max_depth': 6,\n",
        " - gradientboostingregressor__max_leaf_nodes': 8,\n",
        " - gradientboostingregressor__min_samples_split': 2,\n",
        " - gradientboostingregressor__n_estimators': 175,\n",
        " - simpleimputer__strategy': 'median'\n",
        " - tuned a bit more after the CV params"
      ]
    },
    {
      "cell_type": "markdown",
      "metadata": {
        "id": "h9u1mK3drVWR"
      },
      "source": [
        "##Gradient Boosting Regression 10M or Less"
      ]
    },
    {
      "cell_type": "code",
      "metadata": {
        "colab": {
          "base_uri": "https://localhost:8080/"
        },
        "id": "6G9ymRkLrNs2",
        "outputId": "5160f01c-0c9a-440e-eed6-446c43def773"
      },
      "source": [
        "model_gbr1 = make_pipeline(\n",
        "    OrdinalEncoder(),\n",
        "    SimpleImputer(strategy='median'),\n",
        "    StandardScaler(),\n",
        "    GradientBoostingRegressor(n_estimators=136, max_depth=8, loss='lad', min_samples_split=2, max_leaf_nodes=8)\n",
        ")\n",
        "\n",
        "model_gbr1.fit(X_a1_train, y_a1_train)"
      ],
      "execution_count": 508,
      "outputs": [
        {
          "output_type": "execute_result",
          "data": {
            "text/plain": [
              "Pipeline(memory=None,\n",
              "         steps=[('ordinalencoder',\n",
              "                 OrdinalEncoder(cols=['Liquid Type', 'Liquid Subtype'],\n",
              "                                drop_invariant=False, handle_missing='value',\n",
              "                                handle_unknown='value',\n",
              "                                mapping=[{'col': 'Liquid Type',\n",
              "                                          'data_type': dtype('O'),\n",
              "                                          'mapping': HVL OR OTHER FLAMMABLE OR TOXIC FLUID, GAS              1\n",
              "CRUDE OIL                                               2\n",
              "REFINED AND/OR PETROLEUM PRODUCT (NON-HVL), LIQUID      3\n",
              "CO2 (CARBON DIOXIDE)                                    4\n",
              "BIOFUEL / ALTERN...\n",
              "                                           learning_rate=0.1, loss='lad',\n",
              "                                           max_depth=8, max_features=None,\n",
              "                                           max_leaf_nodes=8,\n",
              "                                           min_impurity_decrease=0.0,\n",
              "                                           min_impurity_split=None,\n",
              "                                           min_samples_leaf=1,\n",
              "                                           min_samples_split=2,\n",
              "                                           min_weight_fraction_leaf=0.0,\n",
              "                                           n_estimators=136,\n",
              "                                           n_iter_no_change=None,\n",
              "                                           presort='deprecated',\n",
              "                                           random_state=None, subsample=1.0,\n",
              "                                           tol=0.0001, validation_fraction=0.1,\n",
              "                                           verbose=0, warm_start=False))],\n",
              "         verbose=False)"
            ]
          },
          "metadata": {},
          "execution_count": 508
        }
      ]
    },
    {
      "cell_type": "markdown",
      "metadata": {
        "id": "St6qaZwWe9gK"
      },
      "source": [
        "#Check Metrics - Regression Models\n",
        "- Use MAE to check model metrics\n",
        "- R^2 more informational"
      ]
    },
    {
      "cell_type": "markdown",
      "metadata": {
        "id": "rPYfn23cLf-G"
      },
      "source": [
        "###Ridge MAE and r^2\n",
        "\n"
      ]
    },
    {
      "cell_type": "code",
      "metadata": {
        "colab": {
          "base_uri": "https://localhost:8080/"
        },
        "id": "Y0-KNkc8Lfef",
        "outputId": "bb3a9743-3970-452f-a9f2-f9ea21c9a88c"
      },
      "source": [
        "print('Ridge Train', mean_absolute_error(y_a_train, model_ridge.predict(X_a_train)))\n",
        "print('Ridge Val', mean_absolute_error(y_a_val, model_ridge.predict(X_a_val)))"
      ],
      "execution_count": 392,
      "outputs": [
        {
          "output_type": "stream",
          "name": "stdout",
          "text": [
            "Ridge Train 1666227.81190526\n",
            "Ridge Val 1346561.2511168239\n"
          ]
        }
      ]
    },
    {
      "cell_type": "code",
      "metadata": {
        "colab": {
          "base_uri": "https://localhost:8080/"
        },
        "id": "Ff5RE2v7MlrY",
        "outputId": "ba94c07f-0462-4f37-f6c7-df8fe98ac060"
      },
      "source": [
        "print('Ridge Train', r2_score(y_a_train, model_ridge.predict(X_a_train)))\n",
        "print('Ridge Val', r2_score(y_a_val, model_ridge.predict(X_a_val)))"
      ],
      "execution_count": 393,
      "outputs": [
        {
          "output_type": "stream",
          "name": "stdout",
          "text": [
            "Ridge Train 0.4406177910953095\n",
            "Ridge Val 0.04064708373681247\n"
          ]
        }
      ]
    },
    {
      "cell_type": "markdown",
      "metadata": {
        "id": "d9VdESRL5h_p"
      },
      "source": [
        "###Random Forest Regressor MAE and r^2 score"
      ]
    },
    {
      "cell_type": "code",
      "metadata": {
        "id": "YTBa7vJ55kcO",
        "colab": {
          "base_uri": "https://localhost:8080/"
        },
        "outputId": "7c377344-52d5-4342-ada4-fd5084c0d5b1"
      },
      "source": [
        "print('Random Forest Regressor Train', mean_absolute_error(y_a_train, model_rfr.predict(X_a_train)))\n",
        "print('Random Forest Regressor Val', mean_absolute_error(y_a_val, model_rfr.predict(X_a_val)))"
      ],
      "execution_count": 480,
      "outputs": [
        {
          "output_type": "stream",
          "name": "stdout",
          "text": [
            "Random Forest Regressor Train 1281148.342158059\n",
            "Random Forest Regressor Val 883922.9388849566\n"
          ]
        }
      ]
    },
    {
      "cell_type": "code",
      "metadata": {
        "colab": {
          "base_uri": "https://localhost:8080/"
        },
        "id": "KzkrK1K5tnxz",
        "outputId": "bbab52a8-816b-435a-d695-d9131523b7b4"
      },
      "source": [
        "print('Random Forest Regressor Train', r2_score(y_a_train, model_rfr.predict(X_a_train)))\n",
        "print('Random Forest Regressor Val', r2_score(y_a_val, model_rfr.predict(X_a_val)))"
      ],
      "execution_count": 481,
      "outputs": [
        {
          "output_type": "stream",
          "name": "stdout",
          "text": [
            "Random Forest Regressor Train 0.13894237777792373\n",
            "Random Forest Regressor Val 0.013976484990089189\n"
          ]
        }
      ]
    },
    {
      "cell_type": "markdown",
      "metadata": {
        "id": "kc2109hy5mN2"
      },
      "source": [
        "###Gradient Booster MAE and r^2 score"
      ]
    },
    {
      "cell_type": "code",
      "metadata": {
        "colab": {
          "base_uri": "https://localhost:8080/"
        },
        "id": "zdawnkT05peT",
        "outputId": "19c5630f-0df6-4fd7-afc1-7b5f34c64b76"
      },
      "source": [
        "print('Gradient Booster Regressor Train', mean_absolute_error(y_a_train, model_gbr.predict(X_a_train)))\n",
        "print('Gradient Booster Regressor Val', mean_absolute_error(y_a_val, model_gbr.predict(X_a_val)))"
      ],
      "execution_count": 482,
      "outputs": [
        {
          "output_type": "stream",
          "name": "stdout",
          "text": [
            "Gradient Booster Regressor Train 865816.6951960014\n",
            "Gradient Booster Regressor Val 563825.6915961546\n"
          ]
        }
      ]
    },
    {
      "cell_type": "code",
      "metadata": {
        "colab": {
          "base_uri": "https://localhost:8080/"
        },
        "id": "NOh0hLpztoSU",
        "outputId": "62b55aa4-4749-4b5b-de43-623deb43748b"
      },
      "source": [
        "print('Gradient Booster Regressor Train', r2_score(y_a_train, model_gbr.predict(X_a_train)))\n",
        "print('Gradient Booster Regressor Val', r2_score(y_a_val, model_gbr.predict(X_a_val)))"
      ],
      "execution_count": 483,
      "outputs": [
        {
          "output_type": "stream",
          "name": "stdout",
          "text": [
            "Gradient Booster Regressor Train 0.011719043380432503\n",
            "Gradient Booster Regressor Val 0.022651741312511686\n"
          ]
        }
      ]
    },
    {
      "cell_type": "markdown",
      "metadata": {
        "id": "vtqPRQsAq52j"
      },
      "source": [
        "##Gradient Booster MAE for Costs 10M or less"
      ]
    },
    {
      "cell_type": "code",
      "metadata": {
        "colab": {
          "base_uri": "https://localhost:8080/"
        },
        "id": "ECVZVn42rDun",
        "outputId": "1bdcb1e7-a054-43ee-e107-7c788bfdc743"
      },
      "source": [
        "print('Gradient Booster Regressor Train', mean_absolute_error(y_a1_train, model_gbr1.predict(X_a1_train)))\n",
        "print('Gradient Booster Regressor Val', mean_absolute_error(y_a1_val, model_gbr1.predict(X_a1_val)))"
      ],
      "execution_count": 509,
      "outputs": [
        {
          "output_type": "stream",
          "name": "stdout",
          "text": [
            "Gradient Booster Regressor Train 162510.3029332463\n",
            "Gradient Booster Regressor Val 170656.16578246967\n"
          ]
        }
      ]
    },
    {
      "cell_type": "markdown",
      "metadata": {
        "id": "QRnWVuhAmh9B"
      },
      "source": [
        "#MAE Test including All Costs"
      ]
    },
    {
      "cell_type": "code",
      "metadata": {
        "colab": {
          "base_uri": "https://localhost:8080/"
        },
        "id": "z5Z_1pwPmgoA",
        "outputId": "be73d3f5-ae48-44a4-a0ff-d31e1a4ee49d"
      },
      "source": [
        "print('Gradient Booster Regressor Train', mean_absolute_error(y_a_test, model_gbr.predict(X_a_test)))"
      ],
      "execution_count": 476,
      "outputs": [
        {
          "output_type": "stream",
          "name": "stdout",
          "text": [
            "Gradient Booster Regressor Train 411679.6785112489\n"
          ]
        }
      ]
    },
    {
      "cell_type": "markdown",
      "metadata": {
        "id": "vKZFUfNSmnTq"
      },
      "source": [
        "#MAE Test for Costs less than 10M"
      ]
    },
    {
      "cell_type": "code",
      "metadata": {
        "colab": {
          "base_uri": "https://localhost:8080/"
        },
        "id": "_ZF8xjvHmvNX",
        "outputId": "3d3d4640-a400-4544-ecc8-57a2644c512d"
      },
      "source": [
        "print('Gradient Booster Regressor Train', mean_absolute_error(y_a1_test, model_gbr1.predict(X_a1_test)))"
      ],
      "execution_count": 510,
      "outputs": [
        {
          "output_type": "stream",
          "name": "stdout",
          "text": [
            "Gradient Booster Regressor Train 179321.59870890947\n"
          ]
        }
      ]
    },
    {
      "cell_type": "markdown",
      "metadata": {
        "id": "SGJAkSsTM9EX"
      },
      "source": [
        "#Analyze and Improve Feature Importances with Permutation - GBR Models Only\n"
      ]
    },
    {
      "cell_type": "markdown",
      "metadata": {
        "id": "ehhvS1FmsCQS"
      },
      "source": [
        "##All Costs"
      ]
    },
    {
      "cell_type": "code",
      "metadata": {
        "colab": {
          "base_uri": "https://localhost:8080/"
        },
        "id": "YkY1fp1rNBSL",
        "outputId": "b077a671-54cc-46c0-e944-4e3cf312c3e2"
      },
      "source": [
        "#establish importances\n",
        "perm_imp = permutation_importance(model_gbr, X_a_val, y_a_val, n_jobs=-1)\n",
        "\n",
        "perm_imp"
      ],
      "execution_count": 511,
      "outputs": [
        {
          "output_type": "execute_result",
          "data": {
            "text/plain": [
              "{'importances': array([[ 2.82623256e-04,  2.45836331e-03,  1.79848603e-04,\n",
              "          2.72579406e-03,  3.11730552e-04],\n",
              "        [ 1.17288739e-02,  1.18366625e-02,  1.18601202e-02,\n",
              "          9.12285450e-03,  1.08472467e-02],\n",
              "        [ 1.68227806e-02,  1.89935882e-02,  1.91184134e-02,\n",
              "          1.65738020e-02,  1.90035368e-02],\n",
              "        [-9.50409025e-05,  3.16883270e-03, -4.87069081e-05,\n",
              "          3.11887850e-03, -4.93994633e-05],\n",
              "        [ 1.51540182e-02,  1.49486337e-02,  3.39788181e-04,\n",
              "         -8.57683066e-05, -1.50374749e-04],\n",
              "        [ 0.00000000e+00,  0.00000000e+00,  0.00000000e+00,\n",
              "          0.00000000e+00,  0.00000000e+00],\n",
              "        [ 1.06337551e-04,  5.97205819e-03,  5.62148342e-05,\n",
              "          9.69739948e-05,  1.80610432e-04]]),\n",
              " 'importances_mean': array([0.00119167, 0.01107915, 0.01810242, 0.00121891, 0.00604126,\n",
              "        0.        , 0.00128244]),\n",
              " 'importances_std': array([0.00114739, 0.00104754, 0.00115001, 0.00157188, 0.0073589 ,\n",
              "        0.        , 0.00234515])}"
            ]
          },
          "metadata": {},
          "execution_count": 511
        }
      ]
    },
    {
      "cell_type": "code",
      "metadata": {
        "id": "vnYZDDLbNzDN"
      },
      "source": [
        "#create dictionary for dataframe\n",
        "data = {'imp_mean': perm_imp['importances_mean']}"
      ],
      "execution_count": 512,
      "outputs": []
    },
    {
      "cell_type": "code",
      "metadata": {
        "colab": {
          "base_uri": "https://localhost:8080/",
          "height": 266
        },
        "id": "VTY479UVSOpJ",
        "outputId": "40130b37-94a1-49af-c7d6-3ebeeaf1be5a"
      },
      "source": [
        "#create dataframe and print mean importances\n",
        "importances = pd.DataFrame(data, index=X_a_val.columns).sort_values(by='imp_mean', ascending=False)\n",
        "\n",
        "importances"
      ],
      "execution_count": 513,
      "outputs": [
        {
          "output_type": "execute_result",
          "data": {
            "text/html": [
              "<div>\n",
              "<style scoped>\n",
              "    .dataframe tbody tr th:only-of-type {\n",
              "        vertical-align: middle;\n",
              "    }\n",
              "\n",
              "    .dataframe tbody tr th {\n",
              "        vertical-align: top;\n",
              "    }\n",
              "\n",
              "    .dataframe thead th {\n",
              "        text-align: right;\n",
              "    }\n",
              "</style>\n",
              "<table border=\"1\" class=\"dataframe\">\n",
              "  <thead>\n",
              "    <tr style=\"text-align: right;\">\n",
              "      <th></th>\n",
              "      <th>imp_mean</th>\n",
              "    </tr>\n",
              "  </thead>\n",
              "  <tbody>\n",
              "    <tr>\n",
              "      <th>Liquid Recovery (Barrels)</th>\n",
              "      <td>0.018102</td>\n",
              "    </tr>\n",
              "    <tr>\n",
              "      <th>Unintentional Release (Barrels)</th>\n",
              "      <td>0.011079</td>\n",
              "    </tr>\n",
              "    <tr>\n",
              "      <th>Emergency Response</th>\n",
              "      <td>0.006041</td>\n",
              "    </tr>\n",
              "    <tr>\n",
              "      <th>Property Damage</th>\n",
              "      <td>0.001282</td>\n",
              "    </tr>\n",
              "    <tr>\n",
              "      <th>Pipeline Shutdown</th>\n",
              "      <td>0.001219</td>\n",
              "    </tr>\n",
              "    <tr>\n",
              "      <th>Pipeline Type</th>\n",
              "      <td>0.001192</td>\n",
              "    </tr>\n",
              "    <tr>\n",
              "      <th>Lost Commodity</th>\n",
              "      <td>0.000000</td>\n",
              "    </tr>\n",
              "  </tbody>\n",
              "</table>\n",
              "</div>"
            ],
            "text/plain": [
              "                                 imp_mean\n",
              "Liquid Recovery (Barrels)        0.018102\n",
              "Unintentional Release (Barrels)  0.011079\n",
              "Emergency Response               0.006041\n",
              "Property Damage                  0.001282\n",
              "Pipeline Shutdown                0.001219\n",
              "Pipeline Type                    0.001192\n",
              "Lost Commodity                   0.000000"
            ]
          },
          "metadata": {},
          "execution_count": 513
        }
      ]
    },
    {
      "cell_type": "code",
      "metadata": {
        "colab": {
          "base_uri": "https://localhost:8080/",
          "height": 265
        },
        "id": "fI95H7SwSW7i",
        "outputId": "442b6218-7b22-4992-e4ed-3fea3f948d20"
      },
      "source": [
        "#visualize with bar chart\n",
        "importances['imp_mean'].head(10).plot(kind='barh');"
      ],
      "execution_count": 514,
      "outputs": [
        {
          "output_type": "display_data",
          "data": {
            "image/png": "[encoded data removed]",
            "text/plain": [
              "<Figure size 432x288 with 1 Axes>"
            ]
          },
          "metadata": {
            "needs_background": "light"
          }
        }
      ]
    },
    {
      "cell_type": "markdown",
      "metadata": {
        "id": "xIcDQ_9usE6l"
      },
      "source": [
        "## Repeat for 10M or Less\n"
      ]
    },
    {
      "cell_type": "code",
      "metadata": {
        "id": "o_-cPC8NUoZE",
        "colab": {
          "base_uri": "https://localhost:8080/"
        },
        "outputId": "46655dc1-c713-4742-9206-740fd756ae4f"
      },
      "source": [
        "perm_imp1 = permutation_importance(model_gbr1, X_a1_val, y_a1_val, n_jobs=-1)\n",
        "\n",
        "perm_imp1"
      ],
      "execution_count": 515,
      "outputs": [
        {
          "output_type": "execute_result",
          "data": {
            "text/plain": [
              "{'importances': array([[ 0.00575291,  0.00208192,  0.01416477, -0.00133694,  0.01906092],\n",
              "        [ 0.04690662,  0.00870847,  0.02962687,  0.03231206,  0.03320462],\n",
              "        [ 0.07149867,  0.10880154,  0.08416888,  0.16235307,  0.05782589],\n",
              "        [ 0.21365219,  0.18544938,  0.23807352,  0.19223781,  0.13767587],\n",
              "        [ 0.14229973,  0.13933155,  0.14884362,  0.13173742,  0.13313704],\n",
              "        [ 0.01601554,  0.03123718,  0.01497656,  0.01869588,  0.0172934 ],\n",
              "        [ 0.03501715,  0.02552977,  0.00949383,  0.03236465,  0.01375083]]),\n",
              " 'importances_mean': array([0.00794472, 0.03015173, 0.09692961, 0.19341775, 0.13906987,\n",
              "        0.01964371, 0.02323125]),\n",
              " 'importances_std': array([0.00758399, 0.0122866 , 0.03676912, 0.03339346, 0.00624484,\n",
              "        0.0059292 , 0.01006185])}"
            ]
          },
          "metadata": {},
          "execution_count": 515
        }
      ]
    },
    {
      "cell_type": "code",
      "metadata": {
        "id": "tvuVZcJMxChn"
      },
      "source": [
        "data1 = {'imp_mean1': perm_imp1['importances_mean']}"
      ],
      "execution_count": 516,
      "outputs": []
    },
    {
      "cell_type": "code",
      "metadata": {
        "colab": {
          "base_uri": "https://localhost:8080/",
          "height": 266
        },
        "id": "NhSBdJp3xCkA",
        "outputId": "ae3aee60-4f40-4ded-d739-5ecdec49d964"
      },
      "source": [
        "importances1 = pd.DataFrame(data1, index=X_a1_val.columns).sort_values(by='imp_mean1', ascending=False)\n",
        "\n",
        "importances1"
      ],
      "execution_count": 517,
      "outputs": [
        {
          "output_type": "execute_result",
          "data": {
            "text/html": [
              "<div>\n",
              "<style scoped>\n",
              "    .dataframe tbody tr th:only-of-type {\n",
              "        vertical-align: middle;\n",
              "    }\n",
              "\n",
              "    .dataframe tbody tr th {\n",
              "        vertical-align: top;\n",
              "    }\n",
              "\n",
              "    .dataframe thead th {\n",
              "        text-align: right;\n",
              "    }\n",
              "</style>\n",
              "<table border=\"1\" class=\"dataframe\">\n",
              "  <thead>\n",
              "    <tr style=\"text-align: right;\">\n",
              "      <th></th>\n",
              "      <th>imp_mean1</th>\n",
              "    </tr>\n",
              "  </thead>\n",
              "  <tbody>\n",
              "    <tr>\n",
              "      <th>Unintentional Release (Barrels)</th>\n",
              "      <td>0.193418</td>\n",
              "    </tr>\n",
              "    <tr>\n",
              "      <th>Net Loss (Barrels)</th>\n",
              "      <td>0.139070</td>\n",
              "    </tr>\n",
              "    <tr>\n",
              "      <th>Accident Longitude</th>\n",
              "      <td>0.096930</td>\n",
              "    </tr>\n",
              "    <tr>\n",
              "      <th>Liquid Subtype</th>\n",
              "      <td>0.030152</td>\n",
              "    </tr>\n",
              "    <tr>\n",
              "      <th>Property Damage</th>\n",
              "      <td>0.023231</td>\n",
              "    </tr>\n",
              "    <tr>\n",
              "      <th>Emergency Response</th>\n",
              "      <td>0.019644</td>\n",
              "    </tr>\n",
              "    <tr>\n",
              "      <th>Liquid Type</th>\n",
              "      <td>0.007945</td>\n",
              "    </tr>\n",
              "  </tbody>\n",
              "</table>\n",
              "</div>"
            ],
            "text/plain": [
              "                                 imp_mean1\n",
              "Unintentional Release (Barrels)   0.193418\n",
              "Net Loss (Barrels)                0.139070\n",
              "Accident Longitude                0.096930\n",
              "Liquid Subtype                    0.030152\n",
              "Property Damage                   0.023231\n",
              "Emergency Response                0.019644\n",
              "Liquid Type                       0.007945"
            ]
          },
          "metadata": {},
          "execution_count": 517
        }
      ]
    },
    {
      "cell_type": "code",
      "metadata": {
        "colab": {
          "base_uri": "https://localhost:8080/",
          "height": 265
        },
        "id": "QfFgsXFa4W4i",
        "outputId": "8672d699-a771-4439-e399-f3eb6f12aba7"
      },
      "source": [
        "importances1['imp_mean1'].head(10).plot(kind='barh');"
      ],
      "execution_count": 518,
      "outputs": [
        {
          "output_type": "display_data",
          "data": {
            "image/png": "[encoded data removed]",
            "text/plain": [
              "<Figure size 432x288 with 1 Axes>"
            ]
          },
          "metadata": {
            "needs_background": "light"
          }
        }
      ]
    }
  ]
}